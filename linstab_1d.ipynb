{
 "cells": [
  {
   "cell_type": "markdown",
   "metadata": {
    "collapsed": false
   },
   "source": [
    "# Linear Stability Analysis of 1D model\n",
    "Consider the 1D forms\n",
    "$$ f_\\text{cs-chrom}(z) = \\left( - f_a e^{-|z|/L_a} + f_r e^{-|z|/L_r}  \\right) \\sigma(z)  $$\n",
    " $$ f_\\text{cs-cs}(z) = f_s  e^{-|z|/L_s} \\sigma(z) $$\n",
    "$$f_\\text{chrom-chrom}(z) = f_c e^{-|z|/L_c} \\sigma(z), $$\n",
    "\n",
    "Then, the linear stability analysis gives us \n",
    "\n",
    "$$ M=  \\lambda u =  \\left \\{ -q^2 \\begin{bmatrix} D_S & 0 \\\\ 0 & D_C \\end{bmatrix}  - iq \\begin{bmatrix} \\hat{f}_\\text{cs-cs}  & \\hat{f}_\\text{cs-chrom}  \\\\ \\hat{f}_\\text{cs-chrom} & \\hat{f}_\\text{chrom-chrom}  \\end{bmatrix}  \\right\\}  u $$ \n",
    "where the notation is the Fourier transform\n",
    "\n",
    "$$ \\hat{f}(q)  = \\int_{-\\infty}^{\\infty} f(z) e^{-iqz} \\, \\mathrm{d} z. $$\n",
    "\n",
    "Specifically, we have\n",
    "$$\n",
    "  \\hat{f}_\\text{cs-cs} = -\\frac{2if_s L^2q }{1+L_sq^2}$$\n",
    "$$  \\hat{f}_\\text{cs-chrom} = 2iq \\left (\\frac{f_a L_a}{1+L_a^2q_1} - \\frac{f_r L_r^2}{1+L_rq^2} \\right)$$\n",
    "$$ \\hat{f}_\\text{chrom-chrom} =  -\\frac{2if_c L_c^2q }{1+L_cq^2}\n",
    "$$\n",
    "\n",
    "Below we can compute the larger eigenvalue as a function of these parameters."
   ]
  },
  {
   "cell_type": "code",
   "execution_count": 38,
   "metadata": {
    "collapsed": false
   },
   "outputs": [
    {
     "data": {
      "application/vnd.jupyter.widget-view+json": {
       "model_id": "7d03d373d48248dbb3126d5f012cba32",
       "version_major": 2,
       "version_minor": 0
      },
      "text/plain": [
       "interactive(children=(FloatSlider(value=0.1, description='Dc', max=10.0), FloatSlider(value=0.1, description='…"
      ]
     },
     "execution_count": 38,
     "metadata": {
     },
     "output_type": "execute_result"
    }
   ],
   "source": [
    "\n",
    "\n",
    "%matplotlib inline\n",
    "from __future__ import print_function\n",
    "from ipywidgets import interact, interactive, fixed, interact_manual\n",
    "import ipywidgets as widgets\n",
    "from ipywidgets import interactive\n",
    "import matplotlib.pyplot as plt\n",
    "import numpy as np\n",
    "from numpy import power\n",
    "\n",
    "\n",
    "def f(Dc=0.1, Ds=0.1, Ls=7.5, La=15.0, Lc=0.5, Lr=5.0, fs=0, fa=1.0, fr=5.0, fc=1.0):   \n",
    "    plt.figure(2)\n",
    "    k = np.linspace(0.0, 10.0, num=1000)\n",
    "    a = -Ds*k+2.0*fs*(power(1+k*(Lr**2.0),-1.0)-1.0)\n",
    "    d = -Dc*k+2.0*fc*(power(1+k*(Lc**2.0),-1.0)-1.0)\n",
    "    b = 2.0*(fa*(1.0-power(1+k*(La**2.0),-1.0))+fr*(power(1.0+k*Lr**2,-1.0)-1.0));    \n",
    "    eig = (a+d)+np.sqrt(4.0*(b**2.0)+power(a-d,2.0))\n",
    "    \n",
    "    plt.plot(k, eig)\n",
    "    plt.plot(k, np.zeros(1000))\n",
    "    #plt.ylim(-5, 5)\n",
    "    plt.show()\n",
    "\n",
    "#interactive_plot = interactive(f, m=(-2.0, 2.0), b=(-3, 3, 0.5))\n",
    "interactive_plot = interactive(f, Ds=(0,10.0), Dc=(0,10.0),Ls=(0.1,10),La=(0.1,100.0),Lc=(0,10.0),Lr=(.1,10.0),fs=(-10.0,10.0), fa=(0,5.0),fr=(0.0,10.0), fc=(0.,5.0))\n",
    "\n",
    "output = interactive_plot.children[-1]\n",
    "#output.layout.display = 'Flex'\n",
    "interactive_plot"
   ]
  },
  {
   "cell_type": "markdown",
   "metadata": {
    "collapsed": false
   },
   "source": [
   ]
  },
  {
   "cell_type": "code",
   "execution_count": 0,
   "metadata": {
    "collapsed": false
   },
   "outputs": [
   ],
   "source": [
   ]
  }
 ],
 "metadata": {
  "kernelspec": {
   "display_name": "Python 3 (system-wide)",
   "language": "python",
   "metadata": {
    "cocalc": {
     "description": "Python 3 programming language",
     "priority": 100,
     "url": "https://www.python.org/"
    }
   },
   "name": "python3"
  },
  "language_info": {
   "codemirror_mode": {
    "name": "ipython",
    "version": 3
   },
   "file_extension": ".py",
   "mimetype": "text/x-python",
   "name": "python",
   "nbconvert_exporter": "python",
   "pygments_lexer": "ipython3",
   "version": "3.8.2"
  }
 },
 "nbformat": 4,
 "nbformat_minor": 4
}